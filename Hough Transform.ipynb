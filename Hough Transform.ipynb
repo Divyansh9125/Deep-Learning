{
  "nbformat": 4,
  "nbformat_minor": 0,
  "metadata": {
    "colab": {
      "name": "Untitled2.ipynb",
      "provenance": [],
      "authorship_tag": "ABX9TyOHgWsZcqRucLsMOLLlU/iY",
      "include_colab_link": true
    },
    "kernelspec": {
      "name": "python3",
      "display_name": "Python 3"
    }
  },
  "cells": [
    {
      "cell_type": "markdown",
      "metadata": {
        "id": "view-in-github",
        "colab_type": "text"
      },
      "source": [
        "<a href=\"https://colab.research.google.com/github/Divyansh9125/Deep-Learning/blob/master/Hough%20Transform.ipynb\" target=\"_parent\"><img src=\"https://colab.research.google.com/assets/colab-badge.svg\" alt=\"Open In Colab\"/></a>"
      ]
    },
    {
      "cell_type": "markdown",
      "metadata": {
        "id": "16_eWqEmvhTC",
        "colab_type": "text"
      },
      "source": [
        "This is a Hough Transform code written by me to detect lines in images."
      ]
    },
    {
      "cell_type": "code",
      "metadata": {
        "id": "cEXQZF58uj5p",
        "colab_type": "code",
        "colab": {
          "base_uri": "https://localhost:8080/",
          "height": 34
        },
        "outputId": "3f035e0a-9793-434a-df84-8c27849642b1"
      },
      "source": [
        "#importing necessary packages\n",
        "from google.colab.patches import cv2_imshow\n",
        "import numpy as np\n",
        "import math as m\n",
        "import cv2\n",
        "\n",
        "%matplotlib inline\n",
        "\n",
        "print(\"Imported all required packages :)\")"
      ],
      "execution_count": 31,
      "outputs": [
        {
          "output_type": "stream",
          "text": [
            "Imported all required packages :)\n"
          ],
          "name": "stdout"
        }
      ]
    },
    {
      "cell_type": "code",
      "metadata": {
        "id": "s9rz7jMvudTa",
        "colab_type": "code",
        "colab": {
          "base_uri": "https://localhost:8080/",
          "height": 307
        },
        "outputId": "4e23bee3-27e7-49be-c543-ce8c58fcc041"
      },
      "source": [
        "#importing the input image and converting it into grayscale\n",
        "img_path = '../content/ps1-input0.png'\n",
        "img = cv2.imread(img_path)\n",
        "img_gray = cv2.cvtColor(img, cv2.COLOR_BGR2GRAY)\n",
        "print(\"Shape of this grayscale image is:\", img_gray.shape)\n",
        "print(\"Type of this grayscale image is:\", type(img_gray))\n",
        "cv2_imshow(img_gray)"
      ],
      "execution_count": 143,
      "outputs": [
        {
          "output_type": "stream",
          "text": [
            "Shape of this grayscale image is: (256, 256)\n",
            "Type of this grayscale image is: <class 'numpy.ndarray'>\n"
          ],
          "name": "stdout"
        },
        {
          "output_type": "display_data",
          "data": {
            "image/png": "[encoded data removed]",
            "text/plain": [
              "<PIL.Image.Image image mode=L size=256x256 at 0x7F9507B47630>"
            ]
          },
          "metadata": {
            "tags": []
          }
        }
      ]
    },
    {
      "cell_type": "code",
      "metadata": {
        "id": "dylVlGyLxxLT",
        "colab_type": "code",
        "colab": {
          "base_uri": "https://localhost:8080/",
          "height": 324
        },
        "outputId": "50c4cc0f-d96e-434c-dc46-02743cb5c260"
      },
      "source": [
        "#Applying canny edge detector to generate an edged and binary image\n",
        "img_gray_edge = cv2.Canny(img_gray, 100, 200)\n",
        "\n",
        "print(\"This edge image is an binary image containing only 0 and 255.\")\n",
        "print(\"The shape of this edge image:\", img_gray_edge.shape)\n",
        "print(\"Type of this edge image is:\", type(img_gray_edge))\n",
        "cv2_imshow(img_gray_edge)"
      ],
      "execution_count": 144,
      "outputs": [
        {
          "output_type": "stream",
          "text": [
            "This edge image is an binary image containing only 0 and 255.\n",
            "The shape of this edge image: (256, 256)\n",
            "Type of this edge image is: <class 'numpy.ndarray'>\n"
          ],
          "name": "stdout"
        },
        {
          "output_type": "display_data",
          "data": {
            "image/png": "[encoded data removed]",
            "text/plain": [
              "<PIL.Image.Image image mode=L size=256x256 at 0x7F9507C60278>"
            ]
          },
          "metadata": {
            "tags": []
          }
        }
      ]
    },
    {
      "cell_type": "code",
      "metadata": {
        "id": "3Vp6emkU16NG",
        "colab_type": "code",
        "colab": {}
      },
      "source": [
        "#Hough transform function\n",
        "def houghTranshform(src_img, theta_steps, rho_steps):\n",
        "  height, width = src_img.shape\n",
        "  diag_len = int(m.sqrt(height**2 + width**2))\n",
        "  rho_s = list(map(int, range(0, diag_len, rho_steps)))\n",
        "  theta_s = list(map(int, range(0, 360, theta_steps)))\n",
        "\n",
        "  accumulator = np.zeros((len(rho_s), len(theta_s)), dtype=int)\n",
        "\n",
        "  y_indexs, x_indexs = np.nonzero(src_img)\n",
        "\n",
        "  for i in range(img_gray_edge.shape[1]):\n",
        "    for j in range(img_gray_edge.shape[0]):\n",
        "      if img_gray_edge[j][i]!=0:\n",
        "        for theta in theta_s:\n",
        "          rho = i*m.cos(m.radians(theta)) + j*m.sin(m.radians(theta))\n",
        "          accumulator[abs(int(rho))][int(theta)]+=1\n",
        "\n",
        "  return accumulator"
      ],
      "execution_count": 0,
      "outputs": []
    },
    {
      "cell_type": "code",
      "metadata": {
        "id": "wqGPbvesHE4c",
        "colab_type": "code",
        "colab": {
          "base_uri": "https://localhost:8080/",
          "height": 51
        },
        "outputId": "b05d610e-974e-4426-89df-c8d76147f7a1"
      },
      "source": [
        "theta_step = int(input(\"Enter the value for step size of theta: \"))\n",
        "rho_step = int(input(\"Enter the value for step size of rho: \"))\n",
        "accumulator = houghTranshform(src_img=img_gray_edge, theta_steps=theta_step, rho_steps=rho_step)"
      ],
      "execution_count": 146,
      "outputs": [
        {
          "output_type": "stream",
          "text": [
            "Enter the value for step size of theta: 1\n",
            "Enter the value for step size of rho: 1\n"
          ],
          "name": "stdout"
        }
      ]
    },
    {
      "cell_type": "markdown",
      "metadata": {
        "id": "nE3jfB8HnMKv",
        "colab_type": "text"
      },
      "source": [
        "Now getting the peaks in accumulator"
      ]
    },
    {
      "cell_type": "code",
      "metadata": {
        "id": "Kqx_9oq2Kk5F",
        "colab_type": "code",
        "colab": {
          "base_uri": "https://localhost:8080/",
          "height": 34
        },
        "outputId": "ca5af983-dfd1-41af-a5cc-317982ca2558"
      },
      "source": [
        "#finding peaks\n",
        "num_peaks = int(input(\"Enter the number of peaks to be considered: \"))\n",
        "peaks = np.zeros((1, num_peaks), dtype=int).flatten()\n",
        "t = np.zeros((1, num_peaks), dtype=int).flatten()\n",
        "r = np.zeros((1, num_peaks), dtype=int).flatten()\n",
        "\n",
        "for x in range(num_peaks):\n",
        "  for i in range(accumulator.shape[0]):\n",
        "    for j in range(accumulator.shape[1]):\n",
        "      if accumulator[i][j] > peaks[x] and accumulator[i][j] not in peaks:\n",
        "        peaks[x] = accumulator[i][j]\n",
        "        t[x] = j\n",
        "        r[x] = i"
      ],
      "execution_count": 147,
      "outputs": [
        {
          "output_type": "stream",
          "text": [
            "Enter the number of peaks to be considered: 16\n"
          ],
          "name": "stdout"
        }
      ]
    },
    {
      "cell_type": "code",
      "metadata": {
        "id": "8yu9ijKQ_v20",
        "colab_type": "code",
        "colab": {
          "base_uri": "https://localhost:8080/",
          "height": 273
        },
        "outputId": "0a5821d9-63d7-4e00-a2f4-2ad858b4f911"
      },
      "source": [
        "#plotting lines\n",
        "for x in range(num_peaks):\n",
        "  a = np.cos(m.radians(t[x]))\n",
        "  b = np.sin(m.radians(t[x]))\n",
        "  x0 = a*(r[x])\n",
        "  y0 = b*(r[x])\n",
        "  x1 = int(x0 + 1000*(-b))\n",
        "  y1 = int(y0 + 1000*(a))\n",
        "  x2 = int(x0 - 1000*(-b))\n",
        "  y2 = int(y0 - 1000*(a))\n",
        "  cv2.line(img,(x1,y1),(x2,y2),(0,255,0),2)\n",
        "cv2_imshow(img)"
      ],
      "execution_count": 148,
      "outputs": [
        {
          "output_type": "display_data",
          "data": {
            "image/png": "[encoded data removed]",
            "text/plain": [
              "<PIL.Image.Image image mode=RGB size=256x256 at 0x7F9507B47FD0>"
            ]
          },
          "metadata": {
            "tags": []
          }
        }
      ]
    }
  ]
}