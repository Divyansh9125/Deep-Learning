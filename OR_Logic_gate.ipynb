{
  "nbformat": 4,
  "nbformat_minor": 0,
  "metadata": {
    "kernelspec": {
      "display_name": "Python 3",
      "language": "python",
      "name": "python3"
    },
    "language_info": {
      "codemirror_mode": {
        "name": "ipython",
        "version": 3
      },
      "file_extension": ".py",
      "mimetype": "text/x-python",
      "name": "python",
      "nbconvert_exporter": "python",
      "pygments_lexer": "ipython3",
      "version": "3.7.3"
    },
    "colab": {
      "name": "features.ipynb",
      "provenance": [],
      "include_colab_link": true
    }
  },
  "cells": [
    {
      "cell_type": "markdown",
      "metadata": {
        "id": "view-in-github",
        "colab_type": "text"
      },
      "source": [
        "<a href=\"https://colab.research.google.com/github/Divyansh9125/Deep-Learning/blob/master/OR_Logic_gate.ipynb\" target=\"_parent\"><img src=\"https://colab.research.google.com/assets/colab-badge.svg\" alt=\"Open In Colab\"/></a>"
      ]
    },
    {
      "cell_type": "markdown",
      "metadata": {
        "tags": [
          "pdf-title"
        ],
        "id": "4jAdhAYPaa5r",
        "colab_type": "text"
      },
      "source": [
        "This a code which performs the function of a OR logic gate using single layer perceptron."
      ]
    },
    {
      "cell_type": "code",
      "metadata": {
        "tags": [
          "pdf-ignore"
        ],
        "id": "c3VtGNLHaa54",
        "colab_type": "code",
        "outputId": "5640dbff-8abf-4889-f93d-bb89f16c39a5",
        "colab": {
          "base_uri": "https://localhost:8080/",
          "height": 54
        }
      },
      "source": [
        "import tensorflow as tf\n",
        "\n",
        "T, F = 1., 0.\n",
        "sess = tf.Session()\n",
        "train_data_in = [\n",
        "                 [T, T, T],\n",
        "                 [F, T, F],\n",
        "                 [F, F, T],\n",
        "                 [F, F, F],\n",
        "]\n",
        "train_data_out = [\n",
        "                  [T],\n",
        "                  [T],\n",
        "                  [T],\n",
        "                  [F],\n",
        "]\n",
        "\n",
        "W = tf.Variable(tf.random_normal([3, 1]))\n",
        "def step(x):\n",
        "  return tf.to_float(tf.greater(x, .01))\n",
        "\n",
        "output = step(tf.matmul(train_data_in, W))\n",
        "error = tf.subtract(train_data_out, output)\n",
        "mse = tf.reduce_mean(tf.square(error))\n",
        "\n",
        "delta = tf.matmul(train_data_in, error, transpose_a=True)\n",
        "train = tf.assign(W, tf.add(W, delta))\n",
        "\n",
        "sess.run(tf.initialize_all_variables())\n",
        "\n",
        "err, target = 1, 0\n",
        "epoch, max_epoch = 0, 10\n",
        "\n",
        "while err > target and epoch <= max_epoch:\n",
        "  epoch +=1\n",
        "  err, _ , W_final= sess.run([mse, train, W])\n",
        "\n",
        "test_data = [\n",
        "             [F, T, T],\n",
        "             [F, F, F],\n",
        "]\n",
        "print(sess.run(step(tf.matmul(test_data, W))))\n"
      ],
      "execution_count": 2,
      "outputs": [
        {
          "output_type": "stream",
          "text": [
            "[[1.]\n",
            " [0.]]\n"
          ],
          "name": "stdout"
        }
      ]
    }
  ]
}