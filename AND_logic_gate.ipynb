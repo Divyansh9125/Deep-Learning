{
  "nbformat": 4,
  "nbformat_minor": 0,
  "metadata": {
    "colab": {
      "name": "AND logic gate",
      "provenance": [],
      "include_colab_link": true
    },
    "kernelspec": {
      "name": "python3",
      "display_name": "Python 3"
    },
    "accelerator": "GPU"
  },
  "cells": [
    {
      "cell_type": "markdown",
      "metadata": {
        "id": "view-in-github",
        "colab_type": "text"
      },
      "source": [
        "<a href=\"https://colab.research.google.com/github/Divyansh9125/Deep-Learning/blob/master/AND_logic_gate.ipynb\" target=\"_parent\"><img src=\"https://colab.research.google.com/assets/colab-badge.svg\" alt=\"Open In Colab\"/></a>"
      ]
    },
    {
      "cell_type": "markdown",
      "metadata": {
        "id": "lcbAU0imwlNl",
        "colab_type": "text"
      },
      "source": [
        "This is a code which performs the function of a AND logic gate using single layer perceptron."
      ]
    },
    {
      "cell_type": "code",
      "metadata": {
        "id": "liMpDz34wxbx",
        "colab_type": "code",
        "outputId": "cf1345fc-6092-4f69-8105-5afd631544d0",
        "colab": {
          "base_uri": "https://localhost:8080/",
          "height": 54
        }
      },
      "source": [
        "import tensorflow as tf\n",
        "\n",
        "T, F = 1., 0.\n",
        "sess = tf.Session()\n",
        "train_data_in = [\n",
        "                 [T, T, T],\n",
        "                 [F, T, F],\n",
        "                 [F, F, T],\n",
        "                 [T, F, T],\n",
        "]\n",
        "train_data_out = [\n",
        "                  [T],\n",
        "                  [F],\n",
        "                  [F],\n",
        "                  [F],\n",
        "]\n",
        "\n",
        "W = tf.Variable(tf.random_normal([3, 1]))\n",
        "def step(x):\n",
        "  return tf.to_float(tf.greater(x, 1.01))\n",
        "\n",
        "output = step(tf.matmul(train_data_in, W))\n",
        "error = tf.subtract(train_data_out, output)\n",
        "mse = tf.reduce_mean(tf.square(error))\n",
        "\n",
        "delta = tf.matmul(train_data_in, error, transpose_a=True)\n",
        "train = tf.assign(W, tf.add(W, delta))\n",
        "\n",
        "sess.run(tf.initialize_all_variables())\n",
        "\n",
        "err, target = 1, 0\n",
        "epoch, max_epoch = 0, 10\n",
        "\n",
        "while err > target and epoch <= max_epoch:\n",
        "  epoch +=1\n",
        "  err, _ , W_final= sess.run([mse, train, W])\n",
        "\n",
        "test_data = [\n",
        "             [F, T, T],\n",
        "             [F, F, F],\n",
        "]\n",
        "print(sess.run(step(tf.matmul(test_data, W))))\n"
      ],
      "execution_count": 2,
      "outputs": [
        {
          "output_type": "stream",
          "text": [
            "[[0.]\n",
            " [0.]]\n"
          ],
          "name": "stdout"
        }
      ]
    }
  ]
}
